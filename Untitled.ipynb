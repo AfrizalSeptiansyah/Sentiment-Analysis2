{
 "cells": [
  {
   "cell_type": "markdown",
   "metadata": {},
   "source": [
    "## Import Library "
   ]
  },
  {
   "cell_type": "code",
   "execution_count": 1,
   "metadata": {},
   "outputs": [],
   "source": [
    "import numpy as np\n",
    "import pandas as pd\n",
    "import matplotlib.pyplot as plt\n",
    "import seaborn as sns\n",
    "sns.set()\n",
    "from warnings import filterwarnings\n",
    "filterwarnings('ignore')\n",
    "\n",
    "from sklearn.model_selection import train_test_split\n",
    "from sklearn.pipeline import Pipeline\n",
    "from sklearn.compose import ColumnTransformer\n",
    "\n",
    "from jcopml.utils import save_model, load_model"
   ]
  },
  {
   "cell_type": "markdown",
   "metadata": {},
   "source": [
    "## Import Data"
   ]
  },
  {
   "cell_type": "code",
   "execution_count": 2,
   "metadata": {},
   "outputs": [
    {
     "data": {
      "text/html": [
       "<div>\n",
       "<style scoped>\n",
       "    .dataframe tbody tr th:only-of-type {\n",
       "        vertical-align: middle;\n",
       "    }\n",
       "\n",
       "    .dataframe tbody tr th {\n",
       "        vertical-align: top;\n",
       "    }\n",
       "\n",
       "    .dataframe thead th {\n",
       "        text-align: right;\n",
       "    }\n",
       "</style>\n",
       "<table border=\"1\" class=\"dataframe\">\n",
       "  <thead>\n",
       "    <tr style=\"text-align: right;\">\n",
       "      <th></th>\n",
       "      <th>Date</th>\n",
       "      <th>Tweet</th>\n",
       "      <th>Hashtags/keyword</th>\n",
       "      <th>Sentiment</th>\n",
       "    </tr>\n",
       "  </thead>\n",
       "  <tbody>\n",
       "    <tr>\n",
       "      <th>0</th>\n",
       "      <td>03/03/2020</td>\n",
       "      <td>Ini bukti pemerintah pusat gak koordinasi dr a...</td>\n",
       "      <td>['#VirusCoronaindonesia']</td>\n",
       "      <td>negatif</td>\n",
       "    </tr>\n",
       "    <tr>\n",
       "      <th>1</th>\n",
       "      <td>03/03/2020</td>\n",
       "      <td>Untuk para reseller dan penimbun masker dengan...</td>\n",
       "      <td>['#VirusCoronaindonesia']</td>\n",
       "      <td>netral</td>\n",
       "    </tr>\n",
       "    <tr>\n",
       "      <th>2</th>\n",
       "      <td>03/03/2020</td>\n",
       "      <td>Ini bisa bikin gerah buzzer tengik \\r\\n\\r\\n#Vi...</td>\n",
       "      <td>['#VirusCoronaindonesia']</td>\n",
       "      <td>negatif</td>\n",
       "    </tr>\n",
       "    <tr>\n",
       "      <th>3</th>\n",
       "      <td>03/03/2020</td>\n",
       "      <td>Nyatanya, oknum penjual masker lebih \"mematika...</td>\n",
       "      <td>['#VirusCoronaindonesia']</td>\n",
       "      <td>netral</td>\n",
       "    </tr>\n",
       "    <tr>\n",
       "      <th>4</th>\n",
       "      <td>03/03/2020</td>\n",
       "      <td>Percaya Kuasa Yesus \\r\\n\\r\\n#VirusCoronaindone...</td>\n",
       "      <td>['#VirusCoronaindonesia']</td>\n",
       "      <td>netral</td>\n",
       "    </tr>\n",
       "  </tbody>\n",
       "</table>\n",
       "</div>"
      ],
      "text/plain": [
       "         Date                                              Tweet  \\\n",
       "0  03/03/2020  Ini bukti pemerintah pusat gak koordinasi dr a...   \n",
       "1  03/03/2020  Untuk para reseller dan penimbun masker dengan...   \n",
       "2  03/03/2020  Ini bisa bikin gerah buzzer tengik \\r\\n\\r\\n#Vi...   \n",
       "3  03/03/2020  Nyatanya, oknum penjual masker lebih \"mematika...   \n",
       "4  03/03/2020  Percaya Kuasa Yesus \\r\\n\\r\\n#VirusCoronaindone...   \n",
       "\n",
       "            Hashtags/keyword Sentiment  \n",
       "0  ['#VirusCoronaindonesia']   negatif  \n",
       "1  ['#VirusCoronaindonesia']    netral  \n",
       "2  ['#VirusCoronaindonesia']   negatif  \n",
       "3  ['#VirusCoronaindonesia']    netral  \n",
       "4  ['#VirusCoronaindonesia']    netral  "
      ]
     },
     "execution_count": 2,
     "metadata": {},
     "output_type": "execute_result"
    }
   ],
   "source": [
    "df = pd.read_csv(\"data/data.csv\", error_bad_lines=False, sep=';')\n",
    "df.head()"
   ]
  },
  {
   "cell_type": "code",
   "execution_count": 3,
   "metadata": {},
   "outputs": [
    {
     "data": {
      "text/plain": [
       "(600, 4)"
      ]
     },
     "execution_count": 3,
     "metadata": {},
     "output_type": "execute_result"
    }
   ],
   "source": [
    "df.shape"
   ]
  },
  {
   "cell_type": "markdown",
   "metadata": {},
   "source": [
    "Data terdiri dari 600 baris dan 4 kolom."
   ]
  },
  {
   "cell_type": "code",
   "execution_count": 4,
   "metadata": {},
   "outputs": [
    {
     "data": {
      "text/plain": [
       "Date                object\n",
       "Tweet               object\n",
       "Hashtags/keyword    object\n",
       "Sentiment           object\n",
       "dtype: object"
      ]
     },
     "execution_count": 4,
     "metadata": {},
     "output_type": "execute_result"
    }
   ],
   "source": [
    "df.dtypes"
   ]
  },
  {
   "cell_type": "markdown",
   "metadata": {},
   "source": [
    "Tipe data telah sesuai."
   ]
  },
  {
   "cell_type": "code",
   "execution_count": 5,
   "metadata": {},
   "outputs": [
    {
     "data": {
      "text/plain": [
       "Date                0\n",
       "Tweet               0\n",
       "Hashtags/keyword    0\n",
       "Sentiment           0\n",
       "dtype: int64"
      ]
     },
     "execution_count": 5,
     "metadata": {},
     "output_type": "execute_result"
    }
   ],
   "source": [
    "df.isna().sum()"
   ]
  },
  {
   "cell_type": "markdown",
   "metadata": {},
   "source": [
    "Data telah bersih."
   ]
  },
  {
   "cell_type": "code",
   "execution_count": 6,
   "metadata": {},
   "outputs": [
    {
     "data": {
      "image/png": "[encoded data removed]",
      "text/plain": [
       "<Figure size 432x288 with 1 Axes>"
      ]
     },
     "metadata": {},
     "output_type": "display_data"
    }
   ],
   "source": [
    "sns.countplot(df.Sentiment);"
   ]
  },
  {
   "cell_type": "code",
   "execution_count": 7,
   "metadata": {},
   "outputs": [
    {
     "data": {
      "text/plain": [
       "negatif    0.505\n",
       "netral     0.250\n",
       "positif    0.245\n",
       "Name: Sentiment, dtype: float64"
      ]
     },
     "execution_count": 7,
     "metadata": {},
     "output_type": "execute_result"
    }
   ],
   "source": [
    "df.Sentiment.value_counts(normalize=True)"
   ]
  },
  {
   "cell_type": "markdown",
   "metadata": {},
   "source": [
    "Target variabel masih bisa dikatakan balanced."
   ]
  },
  {
   "cell_type": "code",
   "execution_count": 8,
   "metadata": {},
   "outputs": [
    {
     "data": {
      "text/plain": [
       "'Ini bukti pemerintah pusat gak koordinasi dr awal terkait wabah corona. Terlalu santai dan selalu menganggap kita zero kasus. Hrsnya dr awal semua kepala daerah dikumpulin dan diberi arahan. Keliatan gk kompak. Payah! @mohmahfudmd @jokowi #VirusCoronaindonesia https://twitter.com/geloraco/status/1234790775788949504\\xa0…'"
      ]
     },
     "execution_count": 8,
     "metadata": {},
     "output_type": "execute_result"
    }
   ],
   "source": [
    "df.Tweet[0]"
   ]
  },
  {
   "cell_type": "code",
   "execution_count": 9,
   "metadata": {},
   "outputs": [
    {
     "data": {
      "text/plain": [
       "'Ini bkn mslh menyalahan lilin @BNPB_Indonesia namun ini akibat kita terlalu terlena dan tdk antisipasi terhadap wabah ini bahkan memberikan subsidi terhadap pariwisata dan influecer ditengah wabah ini. Akibatnya sprt ini'"
      ]
     },
     "execution_count": 9,
     "metadata": {},
     "output_type": "execute_result"
    }
   ],
   "source": [
    "df.Tweet[222]"
   ]
  },
  {
   "cell_type": "markdown",
   "metadata": {},
   "source": [
    "## Cleaning "
   ]
  },
  {
   "cell_type": "code",
   "execution_count": 10,
   "metadata": {},
   "outputs": [],
   "source": [
    "from nltk.tokenize import word_tokenize\n",
    "from nltk.corpus import stopwords\n",
    "import re\n",
    "from string import punctuation\n",
    "from sklearn.feature_extraction.text import TfidfVectorizer, CountVectorizer\n",
    "\n",
    "sw_indo = stopwords.words('indonesian')"
   ]
  },
  {
   "cell_type": "code",
   "execution_count": 11,
   "metadata": {},
   "outputs": [],
   "source": [
    "sw_indo.extend(['http','https'])"
   ]
  },
  {
   "cell_type": "markdown",
   "metadata": {},
   "source": [
    "Idealnya kita definisikan sendiri stopwords kita tergantung masalah yang sedang dihadapi. Namun, kali ini saya hanya akan menggunakan stopwords indonesia bawaan nltk."
   ]
  },
  {
   "cell_type": "code",
   "execution_count": 12,
   "metadata": {},
   "outputs": [],
   "source": [
    "def cleansing(text):\n",
    "    text = text.lower()\n",
    "    text = re.sub(r'^https?://.*[\\r\\n]*', '', text, flags=re.MULTILINE)\n",
    "    word_list = word_tokenize(text)\n",
    "    word_list = [word for word in word_list if len(word) > 1 and word.isalpha()]\n",
    "    word_list = [word for word in word_list if word not in punctuation]\n",
    "    word_list = [word for word in word_list if word not in sw_indo]\n",
    "    text = ' '.join(word_list)\n",
    "    return text"
   ]
  },
  {
   "cell_type": "code",
   "execution_count": 13,
   "metadata": {},
   "outputs": [],
   "source": [
    "df['Tweet'] = df.Tweet.apply(cleansing)"
   ]
  },
  {
   "cell_type": "code",
   "execution_count": 14,
   "metadata": {},
   "outputs": [
    {
     "data": {
      "text/html": [
       "<div>\n",
       "<style scoped>\n",
       "    .dataframe tbody tr th:only-of-type {\n",
       "        vertical-align: middle;\n",
       "    }\n",
       "\n",
       "    .dataframe tbody tr th {\n",
       "        vertical-align: top;\n",
       "    }\n",
       "\n",
       "    .dataframe thead th {\n",
       "        text-align: right;\n",
       "    }\n",
       "</style>\n",
       "<table border=\"1\" class=\"dataframe\">\n",
       "  <thead>\n",
       "    <tr style=\"text-align: right;\">\n",
       "      <th></th>\n",
       "      <th>Date</th>\n",
       "      <th>Tweet</th>\n",
       "      <th>Hashtags/keyword</th>\n",
       "      <th>Sentiment</th>\n",
       "    </tr>\n",
       "  </thead>\n",
       "  <tbody>\n",
       "    <tr>\n",
       "      <th>0</th>\n",
       "      <td>03/03/2020</td>\n",
       "      <td>bukti pemerintah pusat gak koordinasi dr terka...</td>\n",
       "      <td>['#VirusCoronaindonesia']</td>\n",
       "      <td>negatif</td>\n",
       "    </tr>\n",
       "    <tr>\n",
       "      <th>1</th>\n",
       "      <td>03/03/2020</td>\n",
       "      <td>reseller penimbun masker harga wajar semoga vi...</td>\n",
       "      <td>['#VirusCoronaindonesia']</td>\n",
       "      <td>netral</td>\n",
       "    </tr>\n",
       "    <tr>\n",
       "      <th>2</th>\n",
       "      <td>03/03/2020</td>\n",
       "      <td>bikin gerah buzzer tengik viruscoronaindonesia...</td>\n",
       "      <td>['#VirusCoronaindonesia']</td>\n",
       "      <td>negatif</td>\n",
       "    </tr>\n",
       "    <tr>\n",
       "      <th>3</th>\n",
       "      <td>03/03/2020</td>\n",
       "      <td>oknum penjual masker mematikan virus corona vi...</td>\n",
       "      <td>['#VirusCoronaindonesia']</td>\n",
       "      <td>netral</td>\n",
       "    </tr>\n",
       "    <tr>\n",
       "      <th>4</th>\n",
       "      <td>03/03/2020</td>\n",
       "      <td>percaya kuasa yesus viruscoronaindonesia motiv...</td>\n",
       "      <td>['#VirusCoronaindonesia']</td>\n",
       "      <td>netral</td>\n",
       "    </tr>\n",
       "  </tbody>\n",
       "</table>\n",
       "</div>"
      ],
      "text/plain": [
       "         Date                                              Tweet  \\\n",
       "0  03/03/2020  bukti pemerintah pusat gak koordinasi dr terka...   \n",
       "1  03/03/2020  reseller penimbun masker harga wajar semoga vi...   \n",
       "2  03/03/2020  bikin gerah buzzer tengik viruscoronaindonesia...   \n",
       "3  03/03/2020  oknum penjual masker mematikan virus corona vi...   \n",
       "4  03/03/2020  percaya kuasa yesus viruscoronaindonesia motiv...   \n",
       "\n",
       "            Hashtags/keyword Sentiment  \n",
       "0  ['#VirusCoronaindonesia']   negatif  \n",
       "1  ['#VirusCoronaindonesia']    netral  \n",
       "2  ['#VirusCoronaindonesia']   negatif  \n",
       "3  ['#VirusCoronaindonesia']    netral  \n",
       "4  ['#VirusCoronaindonesia']    netral  "
      ]
     },
     "execution_count": 14,
     "metadata": {},
     "output_type": "execute_result"
    }
   ],
   "source": [
    "df.head()"
   ]
  },
  {
   "cell_type": "code",
   "execution_count": 15,
   "metadata": {},
   "outputs": [
    {
     "data": {
      "text/plain": [
       "'bukti pemerintah pusat gak koordinasi dr terkait wabah corona santai menganggap zero hrsnya dr kepala daerah dikumpulin arahan keliatan gk kompak payah mohmahfudmd jokowi viruscoronaindonesia'"
      ]
     },
     "execution_count": 15,
     "metadata": {},
     "output_type": "execute_result"
    }
   ],
   "source": [
    "df.Tweet[0]"
   ]
  },
  {
   "cell_type": "code",
   "execution_count": 16,
   "metadata": {},
   "outputs": [
    {
     "data": {
      "text/plain": [
       "'bkn mslh menyalahan lilin akibat terlena tdk antisipasi wabah subsidi pariwisata influecer ditengah wabah akibatnya sprt'"
      ]
     },
     "execution_count": 16,
     "metadata": {},
     "output_type": "execute_result"
    }
   ],
   "source": [
    "df.Tweet[222]"
   ]
  },
  {
   "cell_type": "markdown",
   "metadata": {},
   "source": [
    "## Dataset Splitting"
   ]
  },
  {
   "cell_type": "code",
   "execution_count": 17,
   "metadata": {},
   "outputs": [
    {
     "data": {
      "text/plain": [
       "((480,), (120,), (480,), (120,))"
      ]
     },
     "execution_count": 17,
     "metadata": {},
     "output_type": "execute_result"
    }
   ],
   "source": [
    "X = df.Tweet\n",
    "y = df.Sentiment\n",
    "\n",
    "X_train, X_test, y_train, y_test = train_test_split(X, y, test_size=0.2, stratify=y, random_state=42)\n",
    "X_train.shape, X_test.shape, y_train.shape, y_test.shape"
   ]
  },
  {
   "cell_type": "markdown",
   "metadata": {},
   "source": [
    "## Modeling "
   ]
  },
  {
   "cell_type": "code",
   "execution_count": 18,
   "metadata": {},
   "outputs": [],
   "source": [
    "from sklearn.svm import SVC\n",
    "from sklearn.model_selection import GridSearchCV\n",
    "from jcopml.tuning import grid_search_params as gsp"
   ]
  },
  {
   "cell_type": "code",
   "execution_count": 19,
   "metadata": {},
   "outputs": [
    {
     "name": "stdout",
     "output_type": "stream",
     "text": [
      "Fitting 5 folds for each of 49 candidates, totalling 245 fits\n"
     ]
    },
    {
     "name": "stderr",
     "output_type": "stream",
     "text": [
      "[Parallel(n_jobs=-2)]: Using backend LokyBackend with 3 concurrent workers.\n",
      "[Parallel(n_jobs=-2)]: Done  55 tasks      | elapsed:    4.8s\n"
     ]
    },
    {
     "name": "stdout",
     "output_type": "stream",
     "text": [
      "{'algo__C': 10.0, 'algo__gamma': 1.0}\n",
      "0.9979166666666667 0.5833333333333333 0.65\n"
     ]
    },
    {
     "name": "stderr",
     "output_type": "stream",
     "text": [
      "[Parallel(n_jobs=-2)]: Done 245 out of 245 | elapsed:   11.4s finished\n"
     ]
    }
   ],
   "source": [
    "pipeline = Pipeline([\n",
    "    ('prep', TfidfVectorizer(ngram_range=(1, 2), min_df=2)),\n",
    "    ('algo', SVC(max_iter=500))\n",
    "])\n",
    "\n",
    "\n",
    "parameter = {'algo__gamma': np.logspace(-3, 3, 7),\n",
    "             'algo__C': np.logspace(-3, 3, 7)}\n",
    "\n",
    "\n",
    "model = GridSearchCV(pipeline, parameter, cv=5, n_jobs=-2, verbose=1)\n",
    "model.fit(X_train, y_train)\n",
    "\n",
    "print(model.best_params_)\n",
    "print(model.score(X_train, y_train), model.best_score_, model.score(X_test, y_test))"
   ]
  },
  {
   "cell_type": "code",
   "execution_count": 20,
   "metadata": {},
   "outputs": [
    {
     "data": {
      "text/html": [
       "<div>\n",
       "<style scoped>\n",
       "    .dataframe tbody tr th:only-of-type {\n",
       "        vertical-align: middle;\n",
       "    }\n",
       "\n",
       "    .dataframe tbody tr th {\n",
       "        vertical-align: top;\n",
       "    }\n",
       "\n",
       "    .dataframe thead th {\n",
       "        text-align: right;\n",
       "    }\n",
       "</style>\n",
       "<table border=\"1\" class=\"dataframe\">\n",
       "  <thead>\n",
       "    <tr style=\"text-align: right;\">\n",
       "      <th></th>\n",
       "      <th>mean_fit_time</th>\n",
       "      <th>std_fit_time</th>\n",
       "      <th>mean_score_time</th>\n",
       "      <th>std_score_time</th>\n",
       "      <th>param_algo__C</th>\n",
       "      <th>param_algo__gamma</th>\n",
       "      <th>params</th>\n",
       "      <th>split0_test_score</th>\n",
       "      <th>split1_test_score</th>\n",
       "      <th>split2_test_score</th>\n",
       "      <th>split3_test_score</th>\n",
       "      <th>split4_test_score</th>\n",
       "      <th>mean_test_score</th>\n",
       "      <th>std_test_score</th>\n",
       "      <th>rank_test_score</th>\n",
       "    </tr>\n",
       "  </thead>\n",
       "  <tbody>\n",
       "    <tr>\n",
       "      <th>45</th>\n",
       "      <td>0.083005</td>\n",
       "      <td>0.012017</td>\n",
       "      <td>0.014601</td>\n",
       "      <td>1.959659e-03</td>\n",
       "      <td>1000.0</td>\n",
       "      <td>1.0</td>\n",
       "      <td>{'algo__C': 1000.0, 'algo__gamma': 1.0}</td>\n",
       "      <td>0.645833</td>\n",
       "      <td>0.510417</td>\n",
       "      <td>0.593750</td>\n",
       "      <td>0.572917</td>\n",
       "      <td>0.593750</td>\n",
       "      <td>0.583333</td>\n",
       "      <td>0.043700</td>\n",
       "      <td>1</td>\n",
       "    </tr>\n",
       "    <tr>\n",
       "      <th>31</th>\n",
       "      <td>0.081120</td>\n",
       "      <td>0.011674</td>\n",
       "      <td>0.012480</td>\n",
       "      <td>6.240058e-03</td>\n",
       "      <td>10.0</td>\n",
       "      <td>1.0</td>\n",
       "      <td>{'algo__C': 10.0, 'algo__gamma': 1.0}</td>\n",
       "      <td>0.645833</td>\n",
       "      <td>0.510417</td>\n",
       "      <td>0.593750</td>\n",
       "      <td>0.572917</td>\n",
       "      <td>0.593750</td>\n",
       "      <td>0.583333</td>\n",
       "      <td>0.043700</td>\n",
       "      <td>1</td>\n",
       "    </tr>\n",
       "    <tr>\n",
       "      <th>38</th>\n",
       "      <td>0.085164</td>\n",
       "      <td>0.012306</td>\n",
       "      <td>0.011120</td>\n",
       "      <td>5.984976e-03</td>\n",
       "      <td>100.0</td>\n",
       "      <td>1.0</td>\n",
       "      <td>{'algo__C': 100.0, 'algo__gamma': 1.0}</td>\n",
       "      <td>0.645833</td>\n",
       "      <td>0.510417</td>\n",
       "      <td>0.593750</td>\n",
       "      <td>0.572917</td>\n",
       "      <td>0.593750</td>\n",
       "      <td>0.583333</td>\n",
       "      <td>0.043700</td>\n",
       "      <td>1</td>\n",
       "    </tr>\n",
       "    <tr>\n",
       "      <th>24</th>\n",
       "      <td>0.085005</td>\n",
       "      <td>0.005831</td>\n",
       "      <td>0.015401</td>\n",
       "      <td>4.223940e-03</td>\n",
       "      <td>1.0</td>\n",
       "      <td>1.0</td>\n",
       "      <td>{'algo__C': 1.0, 'algo__gamma': 1.0}</td>\n",
       "      <td>0.614583</td>\n",
       "      <td>0.531250</td>\n",
       "      <td>0.583333</td>\n",
       "      <td>0.562500</td>\n",
       "      <td>0.583333</td>\n",
       "      <td>0.575000</td>\n",
       "      <td>0.027481</td>\n",
       "      <td>4</td>\n",
       "    </tr>\n",
       "    <tr>\n",
       "      <th>30</th>\n",
       "      <td>0.090480</td>\n",
       "      <td>0.011674</td>\n",
       "      <td>0.015600</td>\n",
       "      <td>1.907349e-07</td>\n",
       "      <td>10.0</td>\n",
       "      <td>0.1</td>\n",
       "      <td>{'algo__C': 10.0, 'algo__gamma': 0.1}</td>\n",
       "      <td>0.645833</td>\n",
       "      <td>0.468750</td>\n",
       "      <td>0.552083</td>\n",
       "      <td>0.604167</td>\n",
       "      <td>0.583333</td>\n",
       "      <td>0.570833</td>\n",
       "      <td>0.059439</td>\n",
       "      <td>5</td>\n",
       "    </tr>\n",
       "  </tbody>\n",
       "</table>\n",
       "</div>"
      ],
      "text/plain": [
       "    mean_fit_time  std_fit_time  mean_score_time  std_score_time  \\\n",
       "45       0.083005      0.012017         0.014601    1.959659e-03   \n",
       "31       0.081120      0.011674         0.012480    6.240058e-03   \n",
       "38       0.085164      0.012306         0.011120    5.984976e-03   \n",
       "24       0.085005      0.005831         0.015401    4.223940e-03   \n",
       "30       0.090480      0.011674         0.015600    1.907349e-07   \n",
       "\n",
       "   param_algo__C param_algo__gamma                                   params  \\\n",
       "45        1000.0               1.0  {'algo__C': 1000.0, 'algo__gamma': 1.0}   \n",
       "31          10.0               1.0    {'algo__C': 10.0, 'algo__gamma': 1.0}   \n",
       "38         100.0               1.0   {'algo__C': 100.0, 'algo__gamma': 1.0}   \n",
       "24           1.0               1.0     {'algo__C': 1.0, 'algo__gamma': 1.0}   \n",
       "30          10.0               0.1    {'algo__C': 10.0, 'algo__gamma': 0.1}   \n",
       "\n",
       "    split0_test_score  split1_test_score  split2_test_score  \\\n",
       "45           0.645833           0.510417           0.593750   \n",
       "31           0.645833           0.510417           0.593750   \n",
       "38           0.645833           0.510417           0.593750   \n",
       "24           0.614583           0.531250           0.583333   \n",
       "30           0.645833           0.468750           0.552083   \n",
       "\n",
       "    split3_test_score  split4_test_score  mean_test_score  std_test_score  \\\n",
       "45           0.572917           0.593750         0.583333        0.043700   \n",
       "31           0.572917           0.593750         0.583333        0.043700   \n",
       "38           0.572917           0.593750         0.583333        0.043700   \n",
       "24           0.562500           0.583333         0.575000        0.027481   \n",
       "30           0.604167           0.583333         0.570833        0.059439   \n",
       "\n",
       "    rank_test_score  \n",
       "45                1  \n",
       "31                1  \n",
       "38                1  \n",
       "24                4  \n",
       "30                5  "
      ]
     },
     "execution_count": 20,
     "metadata": {},
     "output_type": "execute_result"
    }
   ],
   "source": [
    "pd.DataFrame(model.cv_results_).sort_values('rank_test_score', ascending=True).head()"
   ]
  },
  {
   "cell_type": "markdown",
   "metadata": {},
   "source": [
    "## Evaluasi "
   ]
  },
  {
   "cell_type": "code",
   "execution_count": 21,
   "metadata": {},
   "outputs": [],
   "source": [
    "from jcopml.plot import plot_classification_report, plot_confusion_matrix"
   ]
  },
  {
   "cell_type": "code",
   "execution_count": 22,
   "metadata": {},
   "outputs": [
    {
     "name": "stdout",
     "output_type": "stream",
     "text": [
      "Train report\n",
      "              precision    recall  f1-score   support\n",
      "\n",
      "     negatif       1.00      1.00      1.00       242\n",
      "      netral       1.00      1.00      1.00       120\n",
      "     positif       1.00      0.99      1.00       118\n",
      "\n",
      "    accuracy                           1.00       480\n",
      "   macro avg       1.00      1.00      1.00       480\n",
      "weighted avg       1.00      1.00      1.00       480\n",
      "\n",
      "\n",
      "Test report\n",
      "              precision    recall  f1-score   support\n",
      "\n",
      "     negatif       0.70      0.82      0.76        61\n",
      "      netral       0.57      0.53      0.55        30\n",
      "     positif       0.57      0.41      0.48        29\n",
      "\n",
      "    accuracy                           0.65       120\n",
      "   macro avg       0.62      0.59      0.60       120\n",
      "weighted avg       0.64      0.65      0.64       120\n",
      "\n"
     ]
    }
   ],
   "source": [
    "plot_classification_report(X_train, y_train, X_test, y_test, model, report=True)"
   ]
  },
  {
   "cell_type": "code",
   "execution_count": 23,
   "metadata": {},
   "outputs": [
    {
     "data": {
      "image/png": "[encoded data removed]",
      "text/plain": [
       "<Figure size 792x360 with 2 Axes>"
      ]
     },
     "metadata": {},
     "output_type": "display_data"
    }
   ],
   "source": [
    "plot_confusion_matrix(X_train, y_train, X_test, y_test, model)"
   ]
  },
  {
   "cell_type": "markdown",
   "metadata": {},
   "source": [
    "Kesimpulan : cari tambahan data pada kelas netral dan positif paling tidak seimbangkan dengan negatif."
   ]
  },
  {
   "cell_type": "code",
   "execution_count": null,
   "metadata": {},
   "outputs": [],
   "source": []
  }
 ],
 "metadata": {
  "kernelspec": {
   "display_name": "Python [conda env:jcop]",
   "language": "python",
   "name": "conda-env-jcop-py"
  },
  "language_info": {
   "codemirror_mode": {
    "name": "ipython",
    "version": 3
   },
   "file_extension": ".py",
   "mimetype": "text/x-python",
   "name": "python",
   "nbconvert_exporter": "python",
   "pygments_lexer": "ipython3",
   "version": "3.8.3"
  }
 },
 "nbformat": 4,
 "nbformat_minor": 4
}
